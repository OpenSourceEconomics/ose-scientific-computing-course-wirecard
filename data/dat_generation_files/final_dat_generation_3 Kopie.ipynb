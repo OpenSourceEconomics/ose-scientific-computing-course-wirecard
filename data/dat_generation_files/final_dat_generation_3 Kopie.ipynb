{
 "cells": [
  {
   "cell_type": "code",
   "execution_count": 1,
   "metadata": {},
   "outputs": [],
   "source": [
    "from numpy import *\n",
    "import pandas as pd\n",
    "import random\n",
    "import nlopt\n",
    "import numpy as np\n",
    "import matplotlib.pyplot as plt\n",
    "import numbers\n",
    "import math\n",
    "import seaborn as sns\n",
    "import random\n",
    "import autograd.numpy as ag\n",
    "from autograd import grad\n",
    "from mpl_toolkits.mplot3d import Axes3D\n",
    "from numpy.lib.function_base import vectorize\n",
    "from autograd import value_and_grad\n",
    "np.set_printoptions(precision=20)\n",
    "pd.set_option(\"display.precision\", 14)\n",
    "from auxiliary.aux_m.test_problems import *\n",
    "from auxiliary.aux_m.test_problems_info import *\n",
    "from auxiliary.aux_m.optimization_function_nlopt import *\n",
    "from auxiliary.aux_m.function_get_start_point import *"
   ]
  },
  {
   "cell_type": "markdown",
   "metadata": {},
   "source": [
    "**NOTE: load all auxiliary files from the folder aux_m in the auxiliary folder in this notebook in order to run this notebook**"
   ]
  },
  {
   "cell_type": "markdown",
   "metadata": {},
   "source": [
    "## Result Generation Ackley "
   ]
  },
  {
   "cell_type": "code",
   "execution_count": 2,
   "metadata": {},
   "outputs": [],
   "source": [
    "####### define info object that stores information about the functions\n",
    "\n",
    "ackley_info_object=ackley_info(10)\n",
    "schwefel_info_object=schwefel_info(10)"
   ]
  },
  {
   "cell_type": "code",
   "execution_count": 23,
   "metadata": {},
   "outputs": [
    {
     "data": {
      "text/plain": [
       "([-32.768,\n",
       "  -32.768,\n",
       "  -32.768,\n",
       "  -32.768,\n",
       "  -32.768,\n",
       "  -32.768,\n",
       "  -32.768,\n",
       "  -32.768,\n",
       "  -32.768,\n",
       "  -32.768],\n",
       " [32.768,\n",
       "  32.768,\n",
       "  32.768,\n",
       "  32.768,\n",
       "  32.768,\n",
       "  32.768,\n",
       "  32.768,\n",
       "  32.768,\n",
       "  32.768,\n",
       "  32.768])"
      ]
     },
     "execution_count": 23,
     "metadata": {},
     "output_type": "execute_result"
    }
   ],
   "source": [
    "ackley_info_object.domain"
   ]
  },
  {
   "cell_type": "code",
   "execution_count": 21,
   "metadata": {},
   "outputs": [],
   "source": [
    "######## generate starting points\n",
    "\n",
    "np.random.seed(717892)\n",
    "\n",
    "starting_points_ackley=get_starting_points(10,ackley_info_object,100)"
   ]
  },
  {
   "cell_type": "code",
   "execution_count": 22,
   "metadata": {},
   "outputs": [
    {
     "data": {
      "text/html": [
       "<div>\n",
       "<style scoped>\n",
       "    .dataframe tbody tr th:only-of-type {\n",
       "        vertical-align: middle;\n",
       "    }\n",
       "\n",
       "    .dataframe tbody tr th {\n",
       "        vertical-align: top;\n",
       "    }\n",
       "\n",
       "    .dataframe thead th {\n",
       "        text-align: right;\n",
       "    }\n",
       "</style>\n",
       "<table border=\"1\" class=\"dataframe\">\n",
       "  <thead>\n",
       "    <tr style=\"text-align: right;\">\n",
       "      <th></th>\n",
       "      <th>0</th>\n",
       "      <th>1</th>\n",
       "      <th>2</th>\n",
       "      <th>3</th>\n",
       "      <th>4</th>\n",
       "      <th>5</th>\n",
       "      <th>6</th>\n",
       "      <th>7</th>\n",
       "      <th>8</th>\n",
       "      <th>9</th>\n",
       "    </tr>\n",
       "  </thead>\n",
       "  <tbody>\n",
       "    <tr>\n",
       "      <th>0</th>\n",
       "      <td>22.92016077960079</td>\n",
       "      <td>23.74206541829587</td>\n",
       "      <td>-2.13374287627705</td>\n",
       "      <td>18.62815012924133</td>\n",
       "      <td>15.07629926765998</td>\n",
       "      <td>0.61602733885656</td>\n",
       "      <td>-29.14465927681523</td>\n",
       "      <td>27.51648150582307</td>\n",
       "      <td>10.66125077938403</td>\n",
       "      <td>-3.63711246410454</td>\n",
       "    </tr>\n",
       "    <tr>\n",
       "      <th>1</th>\n",
       "      <td>-24.96802166083757</td>\n",
       "      <td>22.03117002077388</td>\n",
       "      <td>-5.51898249191548</td>\n",
       "      <td>1.59506521534387</td>\n",
       "      <td>-0.13627097178287</td>\n",
       "      <td>-30.36863523351280</td>\n",
       "      <td>-29.92405527732833</td>\n",
       "      <td>27.31121314873231</td>\n",
       "      <td>-17.15873053276967</td>\n",
       "      <td>-5.05895858909918</td>\n",
       "    </tr>\n",
       "    <tr>\n",
       "      <th>2</th>\n",
       "      <td>4.82903331139637</td>\n",
       "      <td>27.31216631831524</td>\n",
       "      <td>19.99125718864954</td>\n",
       "      <td>11.19348179511064</td>\n",
       "      <td>-27.44455143852552</td>\n",
       "      <td>-6.48950970326118</td>\n",
       "      <td>-20.53587857388861</td>\n",
       "      <td>30.60470365895350</td>\n",
       "      <td>-30.21473446235585</td>\n",
       "      <td>-28.18202532855099</td>\n",
       "    </tr>\n",
       "    <tr>\n",
       "      <th>3</th>\n",
       "      <td>-31.81038968136557</td>\n",
       "      <td>-24.37993601685532</td>\n",
       "      <td>24.62141794530086</td>\n",
       "      <td>26.28554049219617</td>\n",
       "      <td>25.45702785243786</td>\n",
       "      <td>-7.11849010866557</td>\n",
       "      <td>28.26297781773089</td>\n",
       "      <td>-3.41710015092962</td>\n",
       "      <td>19.44723912826012</td>\n",
       "      <td>11.73895473811467</td>\n",
       "    </tr>\n",
       "    <tr>\n",
       "      <th>4</th>\n",
       "      <td>-1.69349002834538</td>\n",
       "      <td>-2.22383478157548</td>\n",
       "      <td>12.93675822190693</td>\n",
       "      <td>27.13758332094523</td>\n",
       "      <td>-32.33447896064006</td>\n",
       "      <td>-24.63448084258499</td>\n",
       "      <td>-4.19196367792733</td>\n",
       "      <td>-9.14559455915325</td>\n",
       "      <td>17.29430819893168</td>\n",
       "      <td>-4.57943729146419</td>\n",
       "    </tr>\n",
       "    <tr>\n",
       "      <th>...</th>\n",
       "      <td>...</td>\n",
       "      <td>...</td>\n",
       "      <td>...</td>\n",
       "      <td>...</td>\n",
       "      <td>...</td>\n",
       "      <td>...</td>\n",
       "      <td>...</td>\n",
       "      <td>...</td>\n",
       "      <td>...</td>\n",
       "      <td>...</td>\n",
       "    </tr>\n",
       "    <tr>\n",
       "      <th>95</th>\n",
       "      <td>-7.65906308961743</td>\n",
       "      <td>3.56392131373218</td>\n",
       "      <td>-29.41159579845134</td>\n",
       "      <td>-30.38906465187002</td>\n",
       "      <td>-10.44405203634784</td>\n",
       "      <td>-24.43214157924721</td>\n",
       "      <td>-25.84114237433678</td>\n",
       "      <td>-29.63537193867348</td>\n",
       "      <td>-13.63592350507314</td>\n",
       "      <td>25.20815265399180</td>\n",
       "    </tr>\n",
       "    <tr>\n",
       "      <th>96</th>\n",
       "      <td>-9.74912400524716</td>\n",
       "      <td>14.73310021723881</td>\n",
       "      <td>11.91880122988924</td>\n",
       "      <td>-6.14962922827612</td>\n",
       "      <td>12.30299111525233</td>\n",
       "      <td>-31.79732269874036</td>\n",
       "      <td>19.48771885686183</td>\n",
       "      <td>-6.59165935046705</td>\n",
       "      <td>3.19349627693983</td>\n",
       "      <td>30.25142374654181</td>\n",
       "    </tr>\n",
       "    <tr>\n",
       "      <th>97</th>\n",
       "      <td>25.71238124887071</td>\n",
       "      <td>13.52657034477132</td>\n",
       "      <td>6.71957618120016</td>\n",
       "      <td>-20.07071233266565</td>\n",
       "      <td>-7.70425676359807</td>\n",
       "      <td>5.95014669696599</td>\n",
       "      <td>-20.13842092633851</td>\n",
       "      <td>6.90615601310606</td>\n",
       "      <td>-8.67401357381843</td>\n",
       "      <td>-14.59343536987794</td>\n",
       "    </tr>\n",
       "    <tr>\n",
       "      <th>98</th>\n",
       "      <td>-28.80875570214928</td>\n",
       "      <td>-24.71518693829683</td>\n",
       "      <td>-3.78929957766367</td>\n",
       "      <td>-0.76162412624365</td>\n",
       "      <td>28.02861408631955</td>\n",
       "      <td>25.75306420969785</td>\n",
       "      <td>-17.54240323964597</td>\n",
       "      <td>29.24316499425558</td>\n",
       "      <td>-5.32796399912275</td>\n",
       "      <td>-16.52267804395567</td>\n",
       "    </tr>\n",
       "    <tr>\n",
       "      <th>99</th>\n",
       "      <td>24.50311609281542</td>\n",
       "      <td>-25.46848117267732</td>\n",
       "      <td>28.25081412797796</td>\n",
       "      <td>-7.45478661087132</td>\n",
       "      <td>7.65380895848625</td>\n",
       "      <td>16.85587310739439</td>\n",
       "      <td>3.28980145429987</td>\n",
       "      <td>-17.66882282491874</td>\n",
       "      <td>19.52710533655465</td>\n",
       "      <td>-1.73687720552568</td>\n",
       "    </tr>\n",
       "  </tbody>\n",
       "</table>\n",
       "<p>100 rows × 10 columns</p>\n",
       "</div>"
      ],
      "text/plain": [
       "                    0                  1                  2  \\\n",
       "0   22.92016077960079  23.74206541829587  -2.13374287627705   \n",
       "1  -24.96802166083757  22.03117002077388  -5.51898249191548   \n",
       "2    4.82903331139637  27.31216631831524  19.99125718864954   \n",
       "3  -31.81038968136557 -24.37993601685532  24.62141794530086   \n",
       "4   -1.69349002834538  -2.22383478157548  12.93675822190693   \n",
       "..                ...                ...                ...   \n",
       "95  -7.65906308961743   3.56392131373218 -29.41159579845134   \n",
       "96  -9.74912400524716  14.73310021723881  11.91880122988924   \n",
       "97  25.71238124887071  13.52657034477132   6.71957618120016   \n",
       "98 -28.80875570214928 -24.71518693829683  -3.78929957766367   \n",
       "99  24.50311609281542 -25.46848117267732  28.25081412797796   \n",
       "\n",
       "                    3                  4                  5  \\\n",
       "0   18.62815012924133  15.07629926765998   0.61602733885656   \n",
       "1    1.59506521534387  -0.13627097178287 -30.36863523351280   \n",
       "2   11.19348179511064 -27.44455143852552  -6.48950970326118   \n",
       "3   26.28554049219617  25.45702785243786  -7.11849010866557   \n",
       "4   27.13758332094523 -32.33447896064006 -24.63448084258499   \n",
       "..                ...                ...                ...   \n",
       "95 -30.38906465187002 -10.44405203634784 -24.43214157924721   \n",
       "96  -6.14962922827612  12.30299111525233 -31.79732269874036   \n",
       "97 -20.07071233266565  -7.70425676359807   5.95014669696599   \n",
       "98  -0.76162412624365  28.02861408631955  25.75306420969785   \n",
       "99  -7.45478661087132   7.65380895848625  16.85587310739439   \n",
       "\n",
       "                    6                  7                  8                  9  \n",
       "0  -29.14465927681523  27.51648150582307  10.66125077938403  -3.63711246410454  \n",
       "1  -29.92405527732833  27.31121314873231 -17.15873053276967  -5.05895858909918  \n",
       "2  -20.53587857388861  30.60470365895350 -30.21473446235585 -28.18202532855099  \n",
       "3   28.26297781773089  -3.41710015092962  19.44723912826012  11.73895473811467  \n",
       "4   -4.19196367792733  -9.14559455915325  17.29430819893168  -4.57943729146419  \n",
       "..                ...                ...                ...                ...  \n",
       "95 -25.84114237433678 -29.63537193867348 -13.63592350507314  25.20815265399180  \n",
       "96  19.48771885686183  -6.59165935046705   3.19349627693983  30.25142374654181  \n",
       "97 -20.13842092633851   6.90615601310606  -8.67401357381843 -14.59343536987794  \n",
       "98 -17.54240323964597  29.24316499425558  -5.32796399912275 -16.52267804395567  \n",
       "99   3.28980145429987 -17.66882282491874  19.52710533655465  -1.73687720552568  \n",
       "\n",
       "[100 rows x 10 columns]"
      ]
     },
     "execution_count": 22,
     "metadata": {},
     "output_type": "execute_result"
    }
   ],
   "source": [
    "starting_points_ackley"
   ]
  },
  {
   "cell_type": "code",
   "execution_count": 25,
   "metadata": {},
   "outputs": [],
   "source": [
    "######## save staring points to csv\n",
    "starting_points_ackley.to_csv('./Results/results_ackley/starting_points_ackley/start_points_ackley.csv')"
   ]
  },
  {
   "cell_type": "code",
   "execution_count": 26,
   "metadata": {},
   "outputs": [],
   "source": [
    "#### list algorithms under consideration\n",
    "\n",
    "algorithm_list=(nlopt.GN_CRS2_LM,nlopt.GN_ISRES,nlopt.GN_ESCH,nlopt.GN_MLSL,nlopt.GN_MLSL,34,34,nlopt.GN_MLSL_LDS)"
   ]
  },
  {
   "cell_type": "code",
   "execution_count": 27,
   "metadata": {},
   "outputs": [],
   "source": [
    "###### paths where to store results\n",
    "path_ackley='./Results/results_ackley/results_algo_ackley'"
   ]
  },
  {
   "cell_type": "code",
   "execution_count": 28,
   "metadata": {},
   "outputs": [],
   "source": [
    "#### file names\n",
    "file_names_ackley=('CRS2_ackley','ISRES_ackley','ESCH_ackley','MLSL_nm_3_ackley','MLSL_nm_8_ackley','MLSL_bob_3_ackley',\n",
    "                     'MLSL_bob_8_ackley','MLSL_LDS_ackley')\n"
   ]
  },
  {
   "cell_type": "code",
   "execution_count": 29,
   "metadata": {},
   "outputs": [],
   "source": [
    "local_tolerance_x_list_1=(None,None,None,1e-3,1e-8,1e-3,1e-8,1e-8)\n",
    "local_tolerance_f_list_1=(None,None,None,1e-3,1e-8,1e-3,1e-8,1e-8)"
   ]
  },
  {
   "cell_type": "code",
   "execution_count": 30,
   "metadata": {},
   "outputs": [],
   "source": [
    "computational_budgets=pd.array([500,750,1000,1100,1500,2000,2500,5000,7500,10000,11000,12000,15000,20000,25000,30000,37500,40000,45000,50000,60000,65000,75000,80000,90000,95000,99000,100000])"
   ]
  },
  {
   "cell_type": "code",
   "execution_count": 31,
   "metadata": {},
   "outputs": [],
   "source": [
    "##### perform optimization\n",
    "\n",
    "np.random.seed(2984014)\n",
    "\n",
    "\n",
    "automate_result_generation(f=problem_ackley,\n",
    "                           computational_budget=computational_budgets,\n",
    "                           algo_list=algorithm_list,\n",
    "                           x_0=starting_points_ackley,\n",
    "                           n=10,\n",
    "                           problem_info=ackley_info_object,\n",
    "                           x_tol_abs=1e-4,\n",
    "                           f_tol_abs=1e-6,\n",
    "                           path=path_ackley,\n",
    "                           file_names=file_names_ackley,\n",
    "                           local_tolerance_x_list=local_tolerance_x_list_1,\n",
    "                           local_tolerance_f_list=local_tolerance_f_list_1)"
   ]
  },
  {
   "cell_type": "markdown",
   "metadata": {},
   "source": [
    "## Result Generation Zakharov"
   ]
  },
  {
   "cell_type": "code",
   "execution_count": 2,
   "metadata": {},
   "outputs": [],
   "source": [
    "zakharov_info_object=zakharov_info(10)"
   ]
  },
  {
   "cell_type": "code",
   "execution_count": 3,
   "metadata": {},
   "outputs": [
    {
     "data": {
      "text/plain": [
       "([-50, -50, -50, -50, -50, -50, -50, -50, -50, -50],\n",
       " [50, 50, 50, 50, 50, 50, 50, 50, 50, 50])"
      ]
     },
     "execution_count": 3,
     "metadata": {},
     "output_type": "execute_result"
    }
   ],
   "source": [
    "zakharov_info_object.domain"
   ]
  },
  {
   "cell_type": "code",
   "execution_count": 4,
   "metadata": {},
   "outputs": [],
   "source": [
    "##### generate start points for zakharov function\n",
    "\n",
    "np.random.seed(179065389)\n",
    "starting_points_zakharov=get_starting_points(10,zakharov_info_object,100)"
   ]
  },
  {
   "cell_type": "code",
   "execution_count": 6,
   "metadata": {},
   "outputs": [],
   "source": [
    "#starting_points_zakharov"
   ]
  },
  {
   "cell_type": "code",
   "execution_count": 7,
   "metadata": {},
   "outputs": [],
   "source": [
    "#####\n",
    "starting_points_zakharov.to_csv('./Results/results_zakharov/start_points_zak/starting_points_zakharov.csv')"
   ]
  },
  {
   "cell_type": "code",
   "execution_count": 8,
   "metadata": {},
   "outputs": [],
   "source": [
    "algorithm_list=(nlopt.GN_CRS2_LM,nlopt.GN_ISRES,nlopt.GN_ESCH,nlopt.GN_MLSL,nlopt.GN_MLSL,34,34,nlopt.GN_MLSL_LDS)"
   ]
  },
  {
   "cell_type": "code",
   "execution_count": 9,
   "metadata": {},
   "outputs": [],
   "source": [
    "path_zakharov='./Results/results_zakharov/results_algo_zak'"
   ]
  },
  {
   "cell_type": "code",
   "execution_count": 10,
   "metadata": {},
   "outputs": [],
   "source": [
    "file_names_zakharov=('CRS2_zak','ISRES_zak','ESCH_zak','MLSL_nm_3_zak','MLSL_nm_8_zak','MLSL_bob_3_zak',\n",
    "                     'MLSL_bob_8_zak','MLSL_LDS_zak')"
   ]
  },
  {
   "cell_type": "code",
   "execution_count": 11,
   "metadata": {},
   "outputs": [],
   "source": [
    "local_tolerance_x_list_1=(None,None,None,1e-3,1e-8,1e-3,1e-8,1e-8)\n",
    "local_tolerance_f_list_1=(None,None,None,1e-3,1e-8,1e-3,1e-8,1e-8)"
   ]
  },
  {
   "cell_type": "code",
   "execution_count": 12,
   "metadata": {},
   "outputs": [],
   "source": [
    "computational_budgets=pd.array([500,750,1000,1100,1500,2000,2500,5000,7500,10000,11000,12000,15000,20000,25000,30000,37500,40000,45000,50000,60000,65000,75000,80000,90000,95000,99000,100000])"
   ]
  },
  {
   "cell_type": "code",
   "execution_count": 17,
   "metadata": {},
   "outputs": [],
   "source": [
    "np.random.seed(2987899810)\n",
    "\n",
    "\n",
    "automate_result_generation(f=problem_zakharov,\n",
    "                           computational_budget=computational_budgets,\n",
    "                           algo_list=algorithm_list,\n",
    "                           x_0=starting_points_zakharov,\n",
    "                           n=10,\n",
    "                           problem_info=zakharov_info_object,\n",
    "                           x_tol_abs=1e-4,\n",
    "                           f_tol_abs=1e-6,\n",
    "                           path=path_zakharov,\n",
    "                           file_names=file_names_zakharov,\n",
    "                           local_tolerance_x_list=local_tolerance_x_list_1,\n",
    "                           local_tolerance_f_list=local_tolerance_f_list_1)"
   ]
  },
  {
   "cell_type": "code",
   "execution_count": 16,
   "metadata": {},
   "outputs": [
    {
     "data": {
      "text/plain": [
       "[50, 50, 50, 50, 50, 50, 50, 50, 50, 50]"
      ]
     },
     "execution_count": 16,
     "metadata": {},
     "output_type": "execute_result"
    }
   ],
   "source": [
    "zakharov_info_object.upper_bound"
   ]
  },
  {
   "cell_type": "code",
   "execution_count": null,
   "metadata": {},
   "outputs": [],
   "source": []
  }
 ],
 "metadata": {
  "kernelspec": {
   "display_name": "Python 3",
   "language": "python",
   "name": "python3"
  },
  "language_info": {
   "codemirror_mode": {
    "name": "ipython",
    "version": 3
   },
   "file_extension": ".py",
   "mimetype": "text/x-python",
   "name": "python",
   "nbconvert_exporter": "python",
   "pygments_lexer": "ipython3",
   "version": "3.7.6"
  },
  "toc": {
   "base_numbering": 1,
   "nav_menu": {},
   "number_sections": true,
   "sideBar": true,
   "skip_h1_title": true,
   "title_cell": "Table of Contents",
   "title_sidebar": "Contents",
   "toc_cell": false,
   "toc_position": {},
   "toc_section_display": true,
   "toc_window_display": false
  }
 },
 "nbformat": 4,
 "nbformat_minor": 4
}
