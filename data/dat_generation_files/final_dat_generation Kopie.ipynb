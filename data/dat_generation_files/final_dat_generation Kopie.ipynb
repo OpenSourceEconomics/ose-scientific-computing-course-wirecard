{
 "cells": [
  {
   "cell_type": "markdown",
   "metadata": {},
   "source": [
    "**NOTE: load all auxiliary files from the folder aux_m in the auxiliary folder in this notebook in order to run this notebook**"
   ]
  },
  {
   "cell_type": "code",
   "execution_count": null,
   "metadata": {},
   "outputs": [],
   "source": [
    "from numpy import *\n",
    "import pandas as pd\n",
    "import random\n",
    "import nlopt\n",
    "import numpy as np\n",
    "import matplotlib.pyplot as plt\n",
    "import numbers\n",
    "import math\n",
    "import seaborn as sns\n",
    "import random\n",
    "import autograd.numpy as ag\n",
    "from autograd import grad\n",
    "from mpl_toolkits.mplot3d import Axes3D\n",
    "from numpy.lib.function_base import vectorize\n",
    "from autograd import value_and_grad\n",
    "np.set_printoptions(precision=20)\n",
    "pd.set_option(\"display.precision\", 14)\n",
    "from auxiliary.aux_m.test_problems import *\n",
    "from auxiliary.aux_m.test_problems_info import *\n",
    "from auxiliary.aux_m.optimization_function_nlopt import *\n",
    "from auxiliary.aux_m.function_get_start_point import *"
   ]
  },
  {
   "cell_type": "markdown",
   "metadata": {},
   "source": [
    "## Griewank"
   ]
  },
  {
   "cell_type": "code",
   "execution_count": null,
   "metadata": {},
   "outputs": [],
   "source": [
    "starting_points_griewank='./Results/results_griewank/Starting_points_griewank/start_points_correct_grw.csv'\n",
    "start_p_griewank=pd.read_csv(starting_points_griewank)"
   ]
  },
  {
   "cell_type": "code",
   "execution_count": null,
   "metadata": {},
   "outputs": [],
   "source": [
    "#start_p_griewank"
   ]
  },
  {
   "cell_type": "code",
   "execution_count": null,
   "metadata": {},
   "outputs": [],
   "source": [
    "griewank_info_object=griewank_info(10,200)"
   ]
  },
  {
   "cell_type": "code",
   "execution_count": null,
   "metadata": {},
   "outputs": [],
   "source": [
    "griewank_info_object.solver_function_value"
   ]
  },
  {
   "cell_type": "code",
   "execution_count": null,
   "metadata": {},
   "outputs": [],
   "source": [
    "problem_griewank"
   ]
  },
  {
   "cell_type": "code",
   "execution_count": null,
   "metadata": {},
   "outputs": [],
   "source": [
    "algorithm_list=(nlopt.GN_CRS2_LM,nlopt.GN_ISRES,nlopt.GN_ESCH,nlopt.GN_MLSL,nlopt.GN_MLSL,34,34,nlopt.GN_MLSL_LDS)"
   ]
  },
  {
   "cell_type": "code",
   "execution_count": null,
   "metadata": {},
   "outputs": [],
   "source": [
    "algorithm_list"
   ]
  },
  {
   "cell_type": "code",
   "execution_count": null,
   "metadata": {},
   "outputs": [],
   "source": [
    "path_griewank='./Results/results_griewank/algo_results'"
   ]
  },
  {
   "cell_type": "code",
   "execution_count": null,
   "metadata": {},
   "outputs": [],
   "source": [
    "file_names_griewank=('CRS2_grw','ISRES_grw','ESCH_grw','MLSL_nm_3_grw','MLSL_nm_8_grw','MLSL_bob_3_grw',\n",
    "                     'MLSL_bob_8_grw','MLSL_LDS_grw')"
   ]
  },
  {
   "cell_type": "code",
   "execution_count": null,
   "metadata": {},
   "outputs": [],
   "source": [
    "local_tolerance_x_list_grw=(None,None,None,1e-3,1e-8,1e-3,1e-8,1e-8)"
   ]
  },
  {
   "cell_type": "code",
   "execution_count": null,
   "metadata": {},
   "outputs": [],
   "source": [
    "local_tolerance_f_list_grw=(None,None,None,-inf,-inf,-inf,-inf,-inf)"
   ]
  },
  {
   "cell_type": "code",
   "execution_count": null,
   "metadata": {},
   "outputs": [],
   "source": [
    "computational_budgets=pd.array([500,750,1000,1100,1500,2000,2500,5000,7500,10000,11000,12000,15000,20000,25000,30000,37500,40000,45000,50000,60000,65000,75000,80000,90000,95000,99000,100000])"
   ]
  },
  {
   "cell_type": "code",
   "execution_count": null,
   "metadata": {},
   "outputs": [],
   "source": [
    "np.random.seed(905)\n",
    "\n",
    "automate_result_generation(f=problem_griewank,\n",
    "                           computational_budget=computational_budgets,\n",
    "                           algo_list=algorithm_list,x_0=start_p_griewank,n=10,\n",
    "                           problem_info=griewank_info_object,x_tol_abs=1e-4,f_tol_abs=1e-6,\n",
    "                           path=path_griewank,file_names=file_names_griewank,\n",
    "                           local_tolerance_x_list=local_tolerance_x_list_grw,\n",
    "                           local_tolerance_f_list=local_tolerance_f_list_grw)\n",
    "\n"
   ]
  },
  {
   "cell_type": "code",
   "execution_count": null,
   "metadata": {},
   "outputs": [],
   "source": [
    "###### again do the optimization for all MLSL algorithms as we had a bug to get correct results\n",
    "algorithm_list_1=(nlopt.GN_MLSL,nlopt.GN_MLSL,34,34,nlopt.GN_MLSL_LDS)\n",
    "file_names_griewank_1=('MLSL_nm_3_grw','MLSL_nm_8_grw','MLSL_bob_3_grw',\n",
    "                       'MLSL_bob_8_grw','MLSL_LDS_grw')\n",
    "local_tolerance_x_list_1=(1e-3,1e-8,1e-3,1e-8,1e-8)\n",
    "##local_tolerance_f_list_1=(-inf,-inf,-inf,-inf,-inf) ####vorherige Einstellung\n",
    "local_tolerance_f_list_1=(1e-3,1e-8,1e-3,1e-8,1e-8)\n"
   ]
  },
  {
   "cell_type": "code",
   "execution_count": null,
   "metadata": {},
   "outputs": [],
   "source": [
    "local_tolerance_f_list_1"
   ]
  },
  {
   "cell_type": "code",
   "execution_count": null,
   "metadata": {},
   "outputs": [],
   "source": [
    "np.random.seed(915) ### seed vorher 907 ###seed 2: 913\n",
    "\n",
    "automate_result_generation(f=problem_griewank,\n",
    "                           computational_budget=computational_budgets,\n",
    "                           algo_list=algorithm_list_1,x_0=start_p_griewank,n=10,\n",
    "                           problem_info=griewank_info_object,x_tol_abs=1e-4,f_tol_abs=1e-6,\n",
    "                           path=path_griewank,file_names=file_names_griewank_1,\n",
    "                           local_tolerance_x_list=local_tolerance_x_list_1,\n",
    "                           local_tolerance_f_list=local_tolerance_f_list_1)\n",
    "\n"
   ]
  },
  {
   "cell_type": "markdown",
   "metadata": {},
   "source": [
    "## Rastrigin"
   ]
  },
  {
   "cell_type": "code",
   "execution_count": null,
   "metadata": {},
   "outputs": [],
   "source": [
    "rastrigin_info_object=rastrigin_info(10,A=10)"
   ]
  },
  {
   "cell_type": "code",
   "execution_count": null,
   "metadata": {},
   "outputs": [],
   "source": [
    "np.random.seed(175)\n",
    "starting_points_rastrigin=get_starting_points(10,rastrigin_info_object,100)\n"
   ]
  },
  {
   "cell_type": "code",
   "execution_count": null,
   "metadata": {},
   "outputs": [],
   "source": [
    "starting_points_rastrigin"
   ]
  },
  {
   "cell_type": "code",
   "execution_count": null,
   "metadata": {},
   "outputs": [],
   "source": [
    "starting_points_rastrigin.to_csv('./Results/results_rastrigin/starting_points_rast/start_points_rastrigin_1.csv')"
   ]
  },
  {
   "cell_type": "code",
   "execution_count": null,
   "metadata": {},
   "outputs": [],
   "source": [
    "starting_points_rastrigin"
   ]
  },
  {
   "cell_type": "code",
   "execution_count": null,
   "metadata": {},
   "outputs": [],
   "source": [
    "problem_rastrigin"
   ]
  },
  {
   "cell_type": "code",
   "execution_count": null,
   "metadata": {},
   "outputs": [],
   "source": [
    "problem_rastrigin(np.array([0,0,0]))"
   ]
  },
  {
   "cell_type": "code",
   "execution_count": null,
   "metadata": {},
   "outputs": [],
   "source": [
    "algorithm_list=(nlopt.GN_CRS2_LM,nlopt.GN_ISRES,nlopt.GN_ESCH,nlopt.GN_MLSL,nlopt.GN_MLSL,34,34,nlopt.GN_MLSL_LDS)"
   ]
  },
  {
   "cell_type": "code",
   "execution_count": null,
   "metadata": {},
   "outputs": [],
   "source": [
    "algorithm_list"
   ]
  },
  {
   "cell_type": "code",
   "execution_count": null,
   "metadata": {},
   "outputs": [],
   "source": [
    "path_rastrigin='./Results/results_rastrigin/results_algo_rast'"
   ]
  },
  {
   "cell_type": "code",
   "execution_count": null,
   "metadata": {},
   "outputs": [],
   "source": [
    "file_names_rastrigin=('CRS2_ras','ISRES_ras','ESCH_ras','MLSL_nm_3_ras','MLSL_nm_8_ras','MLSL_bob_3_ras',\n",
    "                     'MLSL_bob_8_ras','MLSL_LDS_ras')"
   ]
  },
  {
   "cell_type": "code",
   "execution_count": null,
   "metadata": {},
   "outputs": [],
   "source": [
    "local_tolerance_x_list=(None,None,None,1e-3,1e-8,1e-3,1e-8,1e-8)"
   ]
  },
  {
   "cell_type": "code",
   "execution_count": null,
   "metadata": {},
   "outputs": [],
   "source": [
    "local_tolerance_f_list=(None,None,None,1e-3,1e-8,1e-3,1e-8,1e-8)"
   ]
  },
  {
   "cell_type": "code",
   "execution_count": null,
   "metadata": {},
   "outputs": [],
   "source": [
    "computational_budgets=pd.array([500,750,1000,1100,1500,2000,2500,5000,7500,10000,11000,12000,15000,20000,25000,30000,37500,40000,45000,50000,60000,65000,75000,80000,90000,95000,99000,100000])"
   ]
  },
  {
   "cell_type": "code",
   "execution_count": null,
   "metadata": {},
   "outputs": [],
   "source": [
    "np.random.seed(236)\n",
    "\n",
    "automate_result_generation(f=problem_rastrigin,\n",
    "                           computational_budget=computational_budgets,\n",
    "                           algo_list=algorithm_list,\n",
    "                           x_0=starting_points_rastrigin,\n",
    "                           n=10,\n",
    "                           problem_info=rastrigin_info_object,\n",
    "                           x_tol_abs=1e-4,\n",
    "                           f_tol_abs=1e-6,\n",
    "                           path=path_rastrigin,\n",
    "                           file_names=file_names_rastrigin,\n",
    "                           local_tolerance_x_list=local_tolerance_x_list,\n",
    "                           local_tolerance_f_list=local_tolerance_f_list)\n"
   ]
  }
 ],
 "metadata": {
  "kernelspec": {
   "display_name": "Python 3",
   "language": "python",
   "name": "python3"
  },
  "language_info": {
   "codemirror_mode": {
    "name": "ipython",
    "version": 3
   },
   "file_extension": ".py",
   "mimetype": "text/x-python",
   "name": "python",
   "nbconvert_exporter": "python",
   "pygments_lexer": "ipython3",
   "version": "3.7.6"
  },
  "toc": {
   "base_numbering": 1,
   "nav_menu": {},
   "number_sections": true,
   "sideBar": true,
   "skip_h1_title": true,
   "title_cell": "Table of Contents",
   "title_sidebar": "Contents",
   "toc_cell": false,
   "toc_position": {},
   "toc_section_display": true,
   "toc_window_display": false
  }
 },
 "nbformat": 4,
 "nbformat_minor": 4
}
