{
 "cells": [
  {
   "cell_type": "code",
   "execution_count": 1,
   "metadata": {},
   "outputs": [],
   "source": [
    "from numpy import *\n",
    "import pandas as pd\n",
    "import random\n",
    "import nlopt\n",
    "import numpy as np\n",
    "import matplotlib.pyplot as plt\n",
    "import numbers\n",
    "import math\n",
    "import seaborn as sns\n",
    "import random\n",
    "import autograd.numpy as ag\n",
    "from autograd import grad\n",
    "from mpl_toolkits.mplot3d import Axes3D\n",
    "from numpy.lib.function_base import vectorize\n",
    "from autograd import value_and_grad\n",
    "np.set_printoptions(precision=20)\n",
    "pd.set_option(\"display.precision\", 14)\n",
    "from auxiliary.aux_m.test_problems import *\n",
    "from auxiliary.aux_m.test_problems_info import *\n",
    "from auxiliary.aux_m.optimization_function_nlopt import *\n",
    "from auxiliary.aux_m.function_get_start_point import *"
   ]
  },
  {
   "cell_type": "markdown",
   "metadata": {},
   "source": [
    "**NOTE: load all auxiliary files from the folder aux_m in the auxiliary folder in this notebook in order to run this notebook**"
   ]
  },
  {
   "cell_type": "markdown",
   "metadata": {},
   "source": [
    "## Generate Results for Levi, Rosenbrock and Easom"
   ]
  },
  {
   "cell_type": "code",
   "execution_count": 2,
   "metadata": {},
   "outputs": [],
   "source": [
    "######## create info objects"
   ]
  },
  {
   "cell_type": "code",
   "execution_count": 2,
   "metadata": {},
   "outputs": [],
   "source": [
    "levi_info_object=levi_info(10)\n",
    "rosenbrock_info_object=rosenbrock_info(10)\n",
    "bukin_6_info_object=bukin_6_info(2)\n",
    "camel_3_info_object=camel_3_info(2)\n",
    "easom_info_object=easom_info(2)\n",
    "mc_cormick_info_object=mc_cormick_info(2)"
   ]
  },
  {
   "cell_type": "code",
   "execution_count": 3,
   "metadata": {},
   "outputs": [
    {
     "data": {
      "text/plain": [
       "1.4997597826618576e-32"
      ]
     },
     "execution_count": 3,
     "metadata": {},
     "output_type": "execute_result"
    }
   ],
   "source": [
    "levi_info_object.solver_function_value"
   ]
  },
  {
   "cell_type": "code",
   "execution_count": null,
   "metadata": {},
   "outputs": [],
   "source": [
    "######## check whether test problems are loaded properly"
   ]
  },
  {
   "cell_type": "code",
   "execution_count": 4,
   "metadata": {},
   "outputs": [
    {
     "data": {
      "text/plain": [
       "-1.9132229384978139"
      ]
     },
     "execution_count": 4,
     "metadata": {},
     "output_type": "execute_result"
    }
   ],
   "source": [
    "problem_mc_cormick(np.array([-0.5471,-1.5471]),grad)"
   ]
  },
  {
   "cell_type": "code",
   "execution_count": 5,
   "metadata": {},
   "outputs": [
    {
     "data": {
      "text/plain": [
       "-1.0"
      ]
     },
     "execution_count": 5,
     "metadata": {},
     "output_type": "execute_result"
    }
   ],
   "source": [
    "problem_easom(np.array([np.pi,np.pi]),grad)"
   ]
  },
  {
   "cell_type": "code",
   "execution_count": 6,
   "metadata": {},
   "outputs": [
    {
     "data": {
      "text/plain": [
       "0.0"
      ]
     },
     "execution_count": 6,
     "metadata": {},
     "output_type": "execute_result"
    }
   ],
   "source": [
    "problem_camel_3(np.array([0,0]),grad)"
   ]
  },
  {
   "cell_type": "code",
   "execution_count": 7,
   "metadata": {},
   "outputs": [
    {
     "data": {
      "text/plain": [
       "0.0"
      ]
     },
     "execution_count": 7,
     "metadata": {},
     "output_type": "execute_result"
    }
   ],
   "source": [
    "problem_bukin_6(np.array([-10,1]),grad)"
   ]
  },
  {
   "cell_type": "code",
   "execution_count": 8,
   "metadata": {},
   "outputs": [
    {
     "data": {
      "text/plain": [
       "1"
      ]
     },
     "execution_count": 8,
     "metadata": {},
     "output_type": "execute_result"
    }
   ],
   "source": [
    "problem_rosenbrock(rosenbrock_info_object.solver)"
   ]
  },
  {
   "cell_type": "code",
   "execution_count": 9,
   "metadata": {},
   "outputs": [
    {
     "data": {
      "text/plain": [
       "1.4997597826618576e-32"
      ]
     },
     "execution_count": 9,
     "metadata": {},
     "output_type": "execute_result"
    }
   ],
   "source": [
    "problem_levi(levi_info_object.solver)"
   ]
  },
  {
   "cell_type": "code",
   "execution_count": 10,
   "metadata": {},
   "outputs": [],
   "source": [
    "########## now generate starting points\n",
    "\n",
    "np.random.seed(780)\n",
    "\n",
    "starting_points_rosenbrock=get_starting_points(10,rosenbrock_info_object,100)\n",
    "starting_points_levi=get_starting_points(10,levi_info_object,100)\n",
    "starting_points_bukin=get_starting_points(2,bukin_6_info_object,100)\n",
    "starting_points_camel=get_starting_points(2,camel_3_info_object,100)\n",
    "starting_points_easom=get_starting_points(2,easom_info_object,100)\n",
    "starting_points_mc_cormick=get_starting_points(2,mc_cormick_info_object,100)"
   ]
  },
  {
   "cell_type": "code",
   "execution_count": 11,
   "metadata": {},
   "outputs": [
    {
     "data": {
      "text/html": [
       "<div>\n",
       "<style scoped>\n",
       "    .dataframe tbody tr th:only-of-type {\n",
       "        vertical-align: middle;\n",
       "    }\n",
       "\n",
       "    .dataframe tbody tr th {\n",
       "        vertical-align: top;\n",
       "    }\n",
       "\n",
       "    .dataframe thead th {\n",
       "        text-align: right;\n",
       "    }\n",
       "</style>\n",
       "<table border=\"1\" class=\"dataframe\">\n",
       "  <thead>\n",
       "    <tr style=\"text-align: right;\">\n",
       "      <th></th>\n",
       "      <th>0</th>\n",
       "      <th>1</th>\n",
       "      <th>2</th>\n",
       "      <th>3</th>\n",
       "      <th>4</th>\n",
       "      <th>5</th>\n",
       "      <th>6</th>\n",
       "      <th>7</th>\n",
       "      <th>8</th>\n",
       "      <th>9</th>\n",
       "    </tr>\n",
       "  </thead>\n",
       "  <tbody>\n",
       "    <tr>\n",
       "      <th>0</th>\n",
       "      <td>46.49237215347358</td>\n",
       "      <td>35.58268150930996</td>\n",
       "      <td>98.50145388139325</td>\n",
       "      <td>-33.95839779250356</td>\n",
       "      <td>-43.69192853085777</td>\n",
       "      <td>-49.71468573460418</td>\n",
       "      <td>62.98735463385455</td>\n",
       "      <td>91.65486408778514</td>\n",
       "      <td>54.45968335125980</td>\n",
       "      <td>30.63569535951268</td>\n",
       "    </tr>\n",
       "    <tr>\n",
       "      <th>1</th>\n",
       "      <td>66.17271261877374</td>\n",
       "      <td>12.99326580171936</td>\n",
       "      <td>2.84202892966729</td>\n",
       "      <td>-22.77680050130340</td>\n",
       "      <td>64.21639012511432</td>\n",
       "      <td>-74.35458097058725</td>\n",
       "      <td>32.80343214617497</td>\n",
       "      <td>11.79157429686890</td>\n",
       "      <td>32.64932726924243</td>\n",
       "      <td>-71.91887086673674</td>\n",
       "    </tr>\n",
       "    <tr>\n",
       "      <th>2</th>\n",
       "      <td>-42.97679163837853</td>\n",
       "      <td>78.01279255164914</td>\n",
       "      <td>-72.83360588808330</td>\n",
       "      <td>-55.35715399416561</td>\n",
       "      <td>14.91729002703583</td>\n",
       "      <td>-81.79706248473963</td>\n",
       "      <td>68.77475180399136</td>\n",
       "      <td>12.59537753839727</td>\n",
       "      <td>-44.60105278066588</td>\n",
       "      <td>76.72119993089566</td>\n",
       "    </tr>\n",
       "    <tr>\n",
       "      <th>3</th>\n",
       "      <td>57.39028484989862</td>\n",
       "      <td>-86.81589388290310</td>\n",
       "      <td>-50.19029926225045</td>\n",
       "      <td>-17.95246218422231</td>\n",
       "      <td>73.08947345315761</td>\n",
       "      <td>-70.58365945641341</td>\n",
       "      <td>-69.18997175331685</td>\n",
       "      <td>14.59446065625345</td>\n",
       "      <td>-41.05485923004210</td>\n",
       "      <td>-9.06954812761336</td>\n",
       "    </tr>\n",
       "    <tr>\n",
       "      <th>4</th>\n",
       "      <td>93.33025553174505</td>\n",
       "      <td>28.46076605634818</td>\n",
       "      <td>-77.84627833208155</td>\n",
       "      <td>20.29629144718169</td>\n",
       "      <td>9.73130402673610</td>\n",
       "      <td>-22.39530835974645</td>\n",
       "      <td>-11.00586571741530</td>\n",
       "      <td>80.45286401848665</td>\n",
       "      <td>68.06730500175880</td>\n",
       "      <td>-40.07810938279918</td>\n",
       "    </tr>\n",
       "    <tr>\n",
       "      <th>...</th>\n",
       "      <td>...</td>\n",
       "      <td>...</td>\n",
       "      <td>...</td>\n",
       "      <td>...</td>\n",
       "      <td>...</td>\n",
       "      <td>...</td>\n",
       "      <td>...</td>\n",
       "      <td>...</td>\n",
       "      <td>...</td>\n",
       "      <td>...</td>\n",
       "    </tr>\n",
       "    <tr>\n",
       "      <th>95</th>\n",
       "      <td>-79.06951250499588</td>\n",
       "      <td>82.74995523372064</td>\n",
       "      <td>72.60796756749562</td>\n",
       "      <td>-11.55719314087578</td>\n",
       "      <td>69.06332629858375</td>\n",
       "      <td>-48.86844448277405</td>\n",
       "      <td>47.05417600714262</td>\n",
       "      <td>21.21114441480432</td>\n",
       "      <td>-84.15162284507511</td>\n",
       "      <td>27.76852292451461</td>\n",
       "    </tr>\n",
       "    <tr>\n",
       "      <th>96</th>\n",
       "      <td>-28.56022774715916</td>\n",
       "      <td>-45.67466689247179</td>\n",
       "      <td>-93.22575114250805</td>\n",
       "      <td>20.14085783834751</td>\n",
       "      <td>-76.69815244749381</td>\n",
       "      <td>-93.92670787873487</td>\n",
       "      <td>-47.40942077264374</td>\n",
       "      <td>36.67987559822384</td>\n",
       "      <td>85.36181721805295</td>\n",
       "      <td>-52.16086933949440</td>\n",
       "    </tr>\n",
       "    <tr>\n",
       "      <th>97</th>\n",
       "      <td>85.44146590288187</td>\n",
       "      <td>-4.18770178991304</td>\n",
       "      <td>61.25177728965704</td>\n",
       "      <td>-32.50468143662020</td>\n",
       "      <td>50.20007087949506</td>\n",
       "      <td>71.32920657166878</td>\n",
       "      <td>11.56893185976713</td>\n",
       "      <td>-61.47846591759245</td>\n",
       "      <td>1.50859637394159</td>\n",
       "      <td>-70.06290271541722</td>\n",
       "    </tr>\n",
       "    <tr>\n",
       "      <th>98</th>\n",
       "      <td>-9.74431558668259</td>\n",
       "      <td>-89.45591811758217</td>\n",
       "      <td>19.86132808277515</td>\n",
       "      <td>42.67997444991963</td>\n",
       "      <td>17.15539472708565</td>\n",
       "      <td>61.35387280875312</td>\n",
       "      <td>-91.63809713048552</td>\n",
       "      <td>32.44541440876498</td>\n",
       "      <td>6.15666527056264</td>\n",
       "      <td>-38.68802898841827</td>\n",
       "    </tr>\n",
       "    <tr>\n",
       "      <th>99</th>\n",
       "      <td>-93.55713940497330</td>\n",
       "      <td>-84.45451895450995</td>\n",
       "      <td>-84.06699546276050</td>\n",
       "      <td>15.63554034643883</td>\n",
       "      <td>-95.24048156863725</td>\n",
       "      <td>93.21947679217243</td>\n",
       "      <td>-53.14521571871145</td>\n",
       "      <td>-77.09698099598705</td>\n",
       "      <td>-21.99615784968016</td>\n",
       "      <td>-51.31251045891663</td>\n",
       "    </tr>\n",
       "  </tbody>\n",
       "</table>\n",
       "<p>100 rows × 10 columns</p>\n",
       "</div>"
      ],
      "text/plain": [
       "                    0                  1                  2  \\\n",
       "0   46.49237215347358  35.58268150930996  98.50145388139325   \n",
       "1   66.17271261877374  12.99326580171936   2.84202892966729   \n",
       "2  -42.97679163837853  78.01279255164914 -72.83360588808330   \n",
       "3   57.39028484989862 -86.81589388290310 -50.19029926225045   \n",
       "4   93.33025553174505  28.46076605634818 -77.84627833208155   \n",
       "..                ...                ...                ...   \n",
       "95 -79.06951250499588  82.74995523372064  72.60796756749562   \n",
       "96 -28.56022774715916 -45.67466689247179 -93.22575114250805   \n",
       "97  85.44146590288187  -4.18770178991304  61.25177728965704   \n",
       "98  -9.74431558668259 -89.45591811758217  19.86132808277515   \n",
       "99 -93.55713940497330 -84.45451895450995 -84.06699546276050   \n",
       "\n",
       "                    3                  4                  5  \\\n",
       "0  -33.95839779250356 -43.69192853085777 -49.71468573460418   \n",
       "1  -22.77680050130340  64.21639012511432 -74.35458097058725   \n",
       "2  -55.35715399416561  14.91729002703583 -81.79706248473963   \n",
       "3  -17.95246218422231  73.08947345315761 -70.58365945641341   \n",
       "4   20.29629144718169   9.73130402673610 -22.39530835974645   \n",
       "..                ...                ...                ...   \n",
       "95 -11.55719314087578  69.06332629858375 -48.86844448277405   \n",
       "96  20.14085783834751 -76.69815244749381 -93.92670787873487   \n",
       "97 -32.50468143662020  50.20007087949506  71.32920657166878   \n",
       "98  42.67997444991963  17.15539472708565  61.35387280875312   \n",
       "99  15.63554034643883 -95.24048156863725  93.21947679217243   \n",
       "\n",
       "                    6                  7                  8                  9  \n",
       "0   62.98735463385455  91.65486408778514  54.45968335125980  30.63569535951268  \n",
       "1   32.80343214617497  11.79157429686890  32.64932726924243 -71.91887086673674  \n",
       "2   68.77475180399136  12.59537753839727 -44.60105278066588  76.72119993089566  \n",
       "3  -69.18997175331685  14.59446065625345 -41.05485923004210  -9.06954812761336  \n",
       "4  -11.00586571741530  80.45286401848665  68.06730500175880 -40.07810938279918  \n",
       "..                ...                ...                ...                ...  \n",
       "95  47.05417600714262  21.21114441480432 -84.15162284507511  27.76852292451461  \n",
       "96 -47.40942077264374  36.67987559822384  85.36181721805295 -52.16086933949440  \n",
       "97  11.56893185976713 -61.47846591759245   1.50859637394159 -70.06290271541722  \n",
       "98 -91.63809713048552  32.44541440876498   6.15666527056264 -38.68802898841827  \n",
       "99 -53.14521571871145 -77.09698099598705 -21.99615784968016 -51.31251045891663  \n",
       "\n",
       "[100 rows x 10 columns]"
      ]
     },
     "execution_count": 11,
     "metadata": {},
     "output_type": "execute_result"
    }
   ],
   "source": [
    "starting_points_rosenbrock"
   ]
  },
  {
   "cell_type": "code",
   "execution_count": 13,
   "metadata": {},
   "outputs": [],
   "source": [
    "#####save starting points to csv files\n",
    "\n",
    "starting_points_rosenbrock.to_csv('./Results/results_rosenbrock/starting_points_rosenbrock/start_p_rosen.csv')\n",
    "starting_points_levi.to_csv('./Results/results_levi_13/levi_13_start_points/start_p_levi.csv')\n",
    "starting_points_bukin.to_csv('./Results/results_bukin_6/start_points_bukin/start_p_bukin.csv')\n",
    "starting_points_camel.to_csv('./Results/results_camel_3/start_points_camel/start_p_camel.csv')\n",
    "starting_points_easom.to_csv('./Results/results_easom/start_points_easom/start_p_easom.csv')\n",
    "starting_points_mc_cormick.to_csv('./Results/results_mc_cormick/start_points_mc_cormick/start_p_mc_cormick.csv')"
   ]
  },
  {
   "cell_type": "code",
   "execution_count": 21,
   "metadata": {},
   "outputs": [],
   "source": [
    "#### list of algorithms under consideration\n",
    "\n",
    "algorithm_list=(nlopt.GN_CRS2_LM,nlopt.GN_ISRES,nlopt.GN_ESCH,nlopt.GN_MLSL,nlopt.GN_MLSL,34,34,nlopt.GN_MLSL_LDS)\n",
    "algorithm_list_2=(34,34,nlopt.GN_MLSL_LDS)"
   ]
  },
  {
   "cell_type": "code",
   "execution_count": 13,
   "metadata": {},
   "outputs": [],
   "source": [
    "####### paths where to store results\n",
    "\n",
    "path_rosenbrock='./Results/results_rosenbrock/results_algo_rosen'\n",
    "path_levi='./Results/results_levi_13/results_algo_levi'\n",
    "path_bukin='./Results/results_bukin_6/results_algo_bukin'\n",
    "path_camel='./Results/results_camel_3/results_algo_camel'\n",
    "path_easom='./Results/results_easom/results_algo_easom'\n",
    "path_mc_cormick='./Results/results_mc_cormick/results_algo_mc_cormick'"
   ]
  },
  {
   "cell_type": "code",
   "execution_count": 22,
   "metadata": {},
   "outputs": [],
   "source": [
    "###### file names of data\n",
    "file_names_rosen=('CRS2_rosen','ISRES_rosen','ESCH_rosen','MLSL_nm_3_rosen','MLSL_nm_8_rosen','MLSL_bob_3_rosen',\n",
    "                     'MLSL_bob_8_rosen','MLSL_LDS_rosen')\n",
    "file_names_rosen_2=('MLSL_bob_3_rosen','MLSL_bob_8_rosen','MLSL_LDS_rosen')\n",
    "\n",
    "\n",
    "file_names_levi=('CRS2_levi','ISRES_levi','ESCH_levi','MLSL_nm_3_levi','MLSL_nm_8_levi','MLSL_bob_3_levi',\n",
    "                     'MLSL_bob_8_levi','MLSL_LDS_levi')\n",
    "file_names_bukin=('CRS2_bukin','ISRES_bukin','ESCH_bukin','MLSL_nm_3_bukin','MLSL_nm_8_bukin','MLSL_bob_3_bukin',\n",
    "                     'MLSL_bob_8_bukin','MLSL_LDS_bukin')\n",
    "\n",
    "file_names_camel=('CRS2_camel','ISRES_camel','ESCH_camel','MLSL_nm_3_camel','MLSL_nm_8_camel','MLSL_bob_3_camel',\n",
    "                     'MLSL_bob_8_camel','MLSL_LDS_camel')\n",
    "\n",
    "file_names_easom=('CRS2_easom','ISRES_easom','ESCH_easom','MLSL_nm_3_easom','MLSL_nm_8_easom','MLSL_bob_3_easom',\n",
    "                     'MLSL_bob_8_easom','MLSL_LDS_easom')\n",
    "\n",
    "file_names_mck=('CRS2_mck','ISRES_mck','ESCH_mck','MLSL_nm_3_mck','MLSL_nm_8_mck','MLSL_bob_3_mck',\n",
    "                     'MLSL_bob_8_mck','MLSL_LDS_mck')\n",
    "\n",
    "\n",
    "\n",
    "\n",
    "\n"
   ]
  },
  {
   "cell_type": "code",
   "execution_count": 24,
   "metadata": {},
   "outputs": [],
   "source": [
    "##### specify local tolerances\n",
    "local_tolerance_list_2=(1e-3,1e-8,1e-8)\n",
    "\n",
    "local_tolerance_x_list_1=(None,None,None,1e-3,1e-8,1e-3,1e-8,1e-8)\n",
    "local_tolerance_f_list_1=(None,None,None,1e-3,1e-8,1e-3,1e-8,1e-8)"
   ]
  },
  {
   "cell_type": "code",
   "execution_count": 16,
   "metadata": {},
   "outputs": [],
   "source": [
    "###### specify computational budgets under consideration\n",
    "\n",
    "computational_budgets=pd.array([500,750,1000,1100,1500,2000,2500,5000,7500,10000,11000,12000,15000,20000,25000,30000,37500,40000,45000,50000,60000,65000,75000,80000,90000,95000,99000,100000])"
   ]
  },
  {
   "cell_type": "code",
   "execution_count": 17,
   "metadata": {},
   "outputs": [
    {
     "data": {
      "text/plain": [
       "28"
      ]
     },
     "execution_count": 17,
     "metadata": {},
     "output_type": "execute_result"
    }
   ],
   "source": [
    "len(computational_budgets)"
   ]
  },
  {
   "cell_type": "code",
   "execution_count": null,
   "metadata": {},
   "outputs": [],
   "source": [
    "####### Now perform the optimization for all problems shown above and algorithms\n",
    "\n",
    "np.random.seed(176917) ##### seed for reproducibility\n",
    "\n",
    "\n",
    "\n",
    "####### problem levi\n",
    "\n",
    "automate_result_generation(f=problem_levi,\n",
    "                           computational_budget=computational_budgets,\n",
    "                           algo_list=algorithm_list,\n",
    "                           x_0=starting_points_levi,\n",
    "                           n=10,\n",
    "                           problem_info=levi_info_object,\n",
    "                           x_tol_abs=1e-4,\n",
    "                           f_tol_abs=1e-6,\n",
    "                           path=path_levi,\n",
    "                           file_names=file_names_levi,\n",
    "                           local_tolerance_x_list=local_tolerance_x_list_1,\n",
    "                           local_tolerance_f_list=local_tolerance_f_list_1)\n",
    "\n",
    "\n",
    "\n",
    "##### rosenbrock\n",
    "\n",
    "automate_result_generation(f=problem_rosenbrock,\n",
    "                           computational_budget=computational_budgets,\n",
    "                           algo_list=algorithm_list,\n",
    "                           x_0=starting_points_rosenbrock,\n",
    "                           n=10,\n",
    "                           problem_info=rosenbrock_info_object,\n",
    "                           x_tol_abs=1e-4,\n",
    "                           f_tol_abs=1e-6,\n",
    "                           path=path_rosenbrock,\n",
    "                           file_names=file_names_rosen,\n",
    "                           local_tolerance_x_list=local_tolerance_x_list_1,\n",
    "                           local_tolerance_f_list=local_tolerance_f_list_1)\n",
    "\n",
    "##### this seed also generates the easom results for CRS,ISRES,ESCH, MLSL_3_nm and MLSL_8_nm\n",
    "\n",
    "#### problem Easom\n",
    "\n",
    "automate_result_generation_2D(f=problem_easom,\n",
    "                              computational_budget=computational_budgets,\n",
    "                              algo_list=algorithm_list,\n",
    "                              x_0=starting_points_easom,\n",
    "                              n=2,\n",
    "                              problem_info=easom_info_object,\n",
    "                              x_tol_abs=1e-4,\n",
    "                              f_tol_abs=1e-6,\n",
    "                              path=path_easom,\n",
    "                              file_names=file_names_easom,\n",
    "                              local_tolerance_x_list=local_tolerance_x_list_1,\n",
    "                              local_tolerance_f_list=local_tolerance_f_list_1)\n",
    "\n"
   ]
  },
  {
   "cell_type": "code",
   "execution_count": null,
   "metadata": {},
   "outputs": [],
   "source": [
    "#####reduced rosenbrock as under the seed above we got a runtime error for algorithms BOBY_3,BOBY_8 and LDS\n",
    "np.random.seed(1567823)\n",
    "\n",
    "automate_result_generation(f=problem_rosenbrock,\n",
    "                           computational_budget=computational_budgets,\n",
    "                           algo_list=algorithm_list_2,\n",
    "                           x_0=starting_points_rosenbrock,\n",
    "                           n=10,\n",
    "                           problem_info=rosenbrock_info_object,\n",
    "                           x_tol_abs=1e-6,\n",
    "                           f_tol_abs=1e-8,\n",
    "                           path=path_rosenbrock,\n",
    "                           file_names=file_names_rosen_2,\n",
    "                           local_tolerance_x_list=local_tolerance_list_2,\n",
    "                           local_tolerance_f_list=local_tolerance_list_2)\n",
    "\n"
   ]
  },
  {
   "cell_type": "code",
   "execution_count": null,
   "metadata": {},
   "outputs": [],
   "source": []
  }
 ],
 "metadata": {
  "kernelspec": {
   "display_name": "Python 3",
   "language": "python",
   "name": "python3"
  },
  "language_info": {
   "codemirror_mode": {
    "name": "ipython",
    "version": 3
   },
   "file_extension": ".py",
   "mimetype": "text/x-python",
   "name": "python",
   "nbconvert_exporter": "python",
   "pygments_lexer": "ipython3",
   "version": "3.7.6"
  },
  "toc": {
   "base_numbering": 1,
   "nav_menu": {},
   "number_sections": true,
   "sideBar": true,
   "skip_h1_title": true,
   "title_cell": "Table of Contents",
   "title_sidebar": "Contents",
   "toc_cell": false,
   "toc_position": {},
   "toc_section_display": true,
   "toc_window_display": false
  }
 },
 "nbformat": 4,
 "nbformat_minor": 4
}
